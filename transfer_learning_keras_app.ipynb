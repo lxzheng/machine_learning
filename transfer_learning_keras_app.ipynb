{
 "cells": [
  {
   "cell_type": "markdown",
   "metadata": {},
   "source": [
    "# 使用Keras Application模型进行迁移学习\n",
    "作者：郑灵翔,lxzheng@xmu.edu.cn\n",
    "\n",
    "使用Keras Application预训练模型，通过迁移学习解决花的分类问题"
   ]
  },
  {
   "cell_type": "markdown",
   "metadata": {},
   "source": [
    "## 导入相关库"
   ]
  },
  {
   "cell_type": "code",
   "execution_count": 1,
   "metadata": {},
   "outputs": [],
   "source": [
    "import tensorflow as tf\n",
    "from tensorflow import keras"
   ]
  },
  {
   "cell_type": "markdown",
   "metadata": {},
   "source": [
    "## keras 预训练模型\n",
    "keras.applications预训练模型"
   ]
  },
  {
   "cell_type": "code",
   "execution_count": 2,
   "metadata": {},
   "outputs": [],
   "source": [
    "IMG_SHAPE=(224, 224, 3)"
   ]
  },
  {
   "cell_type": "code",
   "execution_count": 3,
   "metadata": {},
   "outputs": [],
   "source": [
    "base_model = keras.applications.EfficientNetB0(input_shape=IMG_SHAPE,\n",
    "                                                     include_top=False,\n",
    "                                                     weights='imagenet',\n",
    "                                                     pooling='avg')"
   ]
  },
  {
   "cell_type": "code",
   "execution_count": 4,
   "metadata": {},
   "outputs": [],
   "source": [
    "inputs = keras.Input(shape=IMG_SHAPE)\n",
    "features=base_model(inputs)\n",
    "outputs=keras.layers.Dense(5,activation='softmax')(features)\n",
    "model = keras.Model(inputs=inputs, outputs=outputs)"
   ]
  },
  {
   "cell_type": "code",
   "execution_count": 5,
   "metadata": {},
   "outputs": [],
   "source": [
    "base_model.trainable=False"
   ]
  },
  {
   "cell_type": "code",
   "execution_count": 6,
   "metadata": {},
   "outputs": [
    {
     "name": "stdout",
     "output_type": "stream",
     "text": [
      "Model: \"model\"\n",
      "_________________________________________________________________\n",
      "Layer (type)                 Output Shape              Param #   \n",
      "=================================================================\n",
      "input_2 (InputLayer)         [(None, 224, 224, 3)]     0         \n",
      "_________________________________________________________________\n",
      "efficientnetb0 (Functional)  (None, 1280)              4049571   \n",
      "_________________________________________________________________\n",
      "dense (Dense)                (None, 5)                 6405      \n",
      "=================================================================\n",
      "Total params: 4,055,976\n",
      "Trainable params: 6,405\n",
      "Non-trainable params: 4,049,571\n",
      "_________________________________________________________________\n"
     ]
    }
   ],
   "source": [
    "model.summary()"
   ]
  },
  {
   "cell_type": "markdown",
   "metadata": {},
   "source": [
    "## 数据预处理"
   ]
  },
  {
   "cell_type": "code",
   "execution_count": 7,
   "metadata": {},
   "outputs": [],
   "source": [
    "dataset_url='https://storage.googleapis.com/download.tensorflow.org/example_images/flower_photos.tgz'\n",
    "dataset_file = tf.keras.utils.get_file(origin=dataset_url,extract=True)"
   ]
  },
  {
   "cell_type": "code",
   "execution_count": 8,
   "metadata": {},
   "outputs": [],
   "source": [
    "import os\n",
    "fname=os.path.basename(dataset_file)\n",
    "dataset_path=os.path.dirname(dataset_file)+'/'+fname.split('.')[0]"
   ]
  },
  {
   "cell_type": "code",
   "execution_count": 9,
   "metadata": {
    "scrolled": true
   },
   "outputs": [
    {
     "name": "stdout",
     "output_type": "stream",
     "text": [
      "LICENSE.txt  \u001b[0m\u001b[01;34mdaisy\u001b[0m/  \u001b[01;34mdandelion\u001b[0m/  \u001b[01;34mroses\u001b[0m/  \u001b[01;34msunflowers\u001b[0m/  \u001b[01;34mtulips\u001b[0m/\r\n"
     ]
    }
   ],
   "source": [
    "%ls $dataset_path"
   ]
  },
  {
   "cell_type": "code",
   "execution_count": 10,
   "metadata": {},
   "outputs": [
    {
     "name": "stdout",
     "output_type": "stream",
     "text": [
      "Found 3306 images belonging to 5 classes.\n",
      "Found 364 images belonging to 5 classes.\n"
     ]
    }
   ],
   "source": [
    "image_generator = keras.preprocessing.image.ImageDataGenerator(validation_split=0.10)\n",
    "\n",
    "training_generator = image_generator.flow_from_directory(dataset_path, \n",
    "                                                         target_size=(224,224),\n",
    "                                                         subset='training',\n",
    "                                                         batch_size=4)\n",
    "val_generator = image_generator.flow_from_directory(dataset_path, \n",
    "                                                    target_size=(224,224),\n",
    "                                                    subset='validation',\n",
    "                                                    batch_size=4)"
   ]
  },
  {
   "cell_type": "code",
   "execution_count": 11,
   "metadata": {},
   "outputs": [
    {
     "name": "stdout",
     "output_type": "stream",
     "text": [
      "['daisy', 'dandelion', 'roses', 'sunflowers', 'tulips']\n"
     ]
    }
   ],
   "source": [
    "class_names=list(training_generator.class_indices.keys())\n",
    "print(class_names)"
   ]
  },
  {
   "cell_type": "markdown",
   "metadata": {},
   "source": [
    "## 模型训练"
   ]
  },
  {
   "cell_type": "code",
   "execution_count": 12,
   "metadata": {},
   "outputs": [],
   "source": [
    "model.compile(optimizer=tf.keras.optimizers.Adam(1e-5),\n",
    "                  loss='categorical_crossentropy',\n",
    "                  metrics=['accuracy'])\n"
   ]
  },
  {
   "cell_type": "code",
   "execution_count": 13,
   "metadata": {
    "scrolled": false
   },
   "outputs": [
    {
     "name": "stdout",
     "output_type": "stream",
     "text": [
      "Epoch 1/30\n",
      "827/827 [==============================] - 22s 19ms/step - loss: 1.5048 - accuracy: 0.3769 - val_loss: 1.3765 - val_accuracy: 0.4588\n",
      "Epoch 2/30\n",
      "827/827 [==============================] - 14s 17ms/step - loss: 1.2798 - accuracy: 0.5541 - val_loss: 1.2003 - val_accuracy: 0.5934\n",
      "Epoch 3/30\n",
      "827/827 [==============================] - 13s 16ms/step - loss: 1.1216 - accuracy: 0.6485 - val_loss: 1.0706 - val_accuracy: 0.6786\n",
      "Epoch 4/30\n",
      "827/827 [==============================] - 13s 16ms/step - loss: 0.9983 - accuracy: 0.7081 - val_loss: 0.9710 - val_accuracy: 0.7225\n",
      "Epoch 5/30\n",
      "827/827 [==============================] - 14s 17ms/step - loss: 0.9006 - accuracy: 0.7417 - val_loss: 0.8929 - val_accuracy: 0.7390\n",
      "Epoch 6/30\n",
      "827/827 [==============================] - 13s 16ms/step - loss: 0.8241 - accuracy: 0.7632 - val_loss: 0.8302 - val_accuracy: 0.7500\n",
      "Epoch 7/30\n",
      "827/827 [==============================] - 13s 16ms/step - loss: 0.7632 - accuracy: 0.7864 - val_loss: 0.7783 - val_accuracy: 0.7610\n",
      "Epoch 8/30\n",
      "827/827 [==============================] - 13s 16ms/step - loss: 0.7099 - accuracy: 0.8040 - val_loss: 0.7341 - val_accuracy: 0.7830\n",
      "Epoch 9/30\n",
      "827/827 [==============================] - 13s 16ms/step - loss: 0.6657 - accuracy: 0.8113 - val_loss: 0.6977 - val_accuracy: 0.7940\n",
      "Epoch 10/30\n",
      "827/827 [==============================] - 13s 16ms/step - loss: 0.6300 - accuracy: 0.8173 - val_loss: 0.6662 - val_accuracy: 0.8049\n",
      "Epoch 11/30\n",
      "827/827 [==============================] - 13s 16ms/step - loss: 0.5920 - accuracy: 0.8315 - val_loss: 0.6388 - val_accuracy: 0.8132\n",
      "Epoch 12/30\n",
      "827/827 [==============================] - 13s 16ms/step - loss: 0.5708 - accuracy: 0.8379 - val_loss: 0.6154 - val_accuracy: 0.8214\n",
      "Epoch 13/30\n",
      "827/827 [==============================] - 13s 16ms/step - loss: 0.5425 - accuracy: 0.8457 - val_loss: 0.5943 - val_accuracy: 0.8242\n",
      "Epoch 14/30\n",
      "827/827 [==============================] - 13s 16ms/step - loss: 0.5238 - accuracy: 0.8509 - val_loss: 0.5755 - val_accuracy: 0.8324\n",
      "Epoch 15/30\n",
      "827/827 [==============================] - 13s 16ms/step - loss: 0.5026 - accuracy: 0.8575 - val_loss: 0.5589 - val_accuracy: 0.8407\n",
      "Epoch 16/30\n",
      "827/827 [==============================] - 13s 16ms/step - loss: 0.4840 - accuracy: 0.8609 - val_loss: 0.5438 - val_accuracy: 0.8434\n",
      "Epoch 17/30\n",
      "827/827 [==============================] - 13s 16ms/step - loss: 0.4668 - accuracy: 0.8651 - val_loss: 0.5300 - val_accuracy: 0.8462\n",
      "Epoch 18/30\n",
      "827/827 [==============================] - 13s 16ms/step - loss: 0.4514 - accuracy: 0.8727 - val_loss: 0.5177 - val_accuracy: 0.8462\n",
      "Epoch 19/30\n",
      "827/827 [==============================] - 13s 16ms/step - loss: 0.4399 - accuracy: 0.8730 - val_loss: 0.5066 - val_accuracy: 0.8489\n",
      "Epoch 20/30\n",
      "827/827 [==============================] - 13s 16ms/step - loss: 0.4297 - accuracy: 0.8823 - val_loss: 0.4960 - val_accuracy: 0.8489\n",
      "Epoch 21/30\n",
      "827/827 [==============================] - 13s 16ms/step - loss: 0.4140 - accuracy: 0.8842 - val_loss: 0.4867 - val_accuracy: 0.8516\n",
      "Epoch 22/30\n",
      "827/827 [==============================] - 13s 16ms/step - loss: 0.4051 - accuracy: 0.8835 - val_loss: 0.4779 - val_accuracy: 0.8599\n",
      "Epoch 23/30\n",
      "827/827 [==============================] - 14s 16ms/step - loss: 0.3972 - accuracy: 0.8851 - val_loss: 0.4694 - val_accuracy: 0.8599\n",
      "Epoch 24/30\n",
      "827/827 [==============================] - 13s 16ms/step - loss: 0.3886 - accuracy: 0.8875 - val_loss: 0.4621 - val_accuracy: 0.8571\n",
      "Epoch 25/30\n",
      "827/827 [==============================] - 13s 16ms/step - loss: 0.3780 - accuracy: 0.8905 - val_loss: 0.4547 - val_accuracy: 0.8599\n",
      "Epoch 26/30\n",
      "827/827 [==============================] - 13s 16ms/step - loss: 0.3743 - accuracy: 0.8923 - val_loss: 0.4480 - val_accuracy: 0.8571\n",
      "Epoch 27/30\n",
      "827/827 [==============================] - 13s 16ms/step - loss: 0.3604 - accuracy: 0.8969 - val_loss: 0.4419 - val_accuracy: 0.8571\n",
      "Epoch 28/30\n",
      "827/827 [==============================] - 13s 16ms/step - loss: 0.3596 - accuracy: 0.8969 - val_loss: 0.4358 - val_accuracy: 0.8599\n",
      "Epoch 29/30\n",
      "827/827 [==============================] - 13s 16ms/step - loss: 0.3473 - accuracy: 0.9041 - val_loss: 0.4303 - val_accuracy: 0.8626\n",
      "Epoch 30/30\n",
      "827/827 [==============================] - 13s 16ms/step - loss: 0.3414 - accuracy: 0.9011 - val_loss: 0.4254 - val_accuracy: 0.8626\n"
     ]
    }
   ],
   "source": [
    "his=model.fit(training_generator,epochs=30,validation_data=val_generator)"
   ]
  },
  {
   "cell_type": "code",
   "execution_count": 14,
   "metadata": {},
   "outputs": [],
   "source": [
    "import numpy as np\n",
    "import matplotlib.pyplot as plt"
   ]
  },
  {
   "cell_type": "code",
   "execution_count": 15,
   "metadata": {},
   "outputs": [
    {
     "data": {
      "image/png": "[encoded data removed]",
      "text/plain": [
       "<Figure size 432x288 with 1 Axes>"
      ]
     },
     "metadata": {
      "needs_background": "light"
     },
     "output_type": "display_data"
    }
   ],
   "source": [
    "plt.plot(his.history['accuracy'])\n",
    "plt.plot(his.history['val_accuracy'])\n",
    "plt.title('Model accuracy')\n",
    "plt.ylabel('Accuracy')\n",
    "plt.xlabel('Epoch')\n",
    "plt.legend(['Train', 'Validation'], loc='upper left')\n",
    "plt.show()"
   ]
  },
  {
   "cell_type": "code",
   "execution_count": 16,
   "metadata": {},
   "outputs": [
    {
     "data": {
      "image/png": "[encoded data removed]",
      "text/plain": [
       "<Figure size 432x288 with 1 Axes>"
      ]
     },
     "metadata": {
      "needs_background": "light"
     },
     "output_type": "display_data"
    }
   ],
   "source": [
    "plt.plot(his.history['loss'])\n",
    "plt.plot(his.history['val_loss'])\n",
    "plt.title('Model loss')\n",
    "plt.ylabel('Loss')\n",
    "plt.xlabel('Epoch')\n",
    "plt.legend(['Train', 'Validation'], loc='upper left')\n",
    "plt.show()"
   ]
  },
  {
   "cell_type": "markdown",
   "metadata": {},
   "source": [
    "## 解冻模型高层，进行微调训练"
   ]
  },
  {
   "cell_type": "code",
   "execution_count": 17,
   "metadata": {},
   "outputs": [
    {
     "data": {
      "text/plain": [
       "238"
      ]
     },
     "execution_count": 17,
     "metadata": {},
     "output_type": "execute_result"
    }
   ],
   "source": [
    "len(base_model.layers)"
   ]
  },
  {
   "cell_type": "code",
   "execution_count": 18,
   "metadata": {},
   "outputs": [],
   "source": [
    "base_model.trainable=True"
   ]
  },
  {
   "cell_type": "code",
   "execution_count": 19,
   "metadata": {},
   "outputs": [
    {
     "name": "stdout",
     "output_type": "stream",
     "text": [
      "block7a_expand_conv\n",
      "block7a_expand_bn\n",
      "block7a_expand_activation\n",
      "block7a_dwconv\n",
      "block7a_bn\n",
      "block7a_activation\n",
      "block7a_se_squeeze\n",
      "block7a_se_reshape\n",
      "block7a_se_reduce\n",
      "block7a_se_expand\n",
      "block7a_se_excite\n",
      "block7a_project_conv\n",
      "block7a_project_bn\n",
      "top_conv\n",
      "top_bn\n",
      "top_activation\n",
      "avg_pool\n"
     ]
    }
   ],
   "source": [
    "for layer in base_model.layers[:-17]:\n",
    "    layer.trainable = False\n",
    "for layer in base_model.layers[-17:]:\n",
    "    print(layer.name)\n",
    "    if isinstance(layer, keras.layers.BatchNormalization):\n",
    "        layer.trainable = False"
   ]
  },
  {
   "cell_type": "code",
   "execution_count": 20,
   "metadata": {},
   "outputs": [
    {
     "name": "stdout",
     "output_type": "stream",
     "text": [
      "Model: \"model\"\n",
      "_________________________________________________________________\n",
      "Layer (type)                 Output Shape              Param #   \n",
      "=================================================================\n",
      "input_2 (InputLayer)         [(None, 224, 224, 3)]     0         \n",
      "_________________________________________________________________\n",
      "efficientnetb0 (Functional)  (None, 1280)              4049571   \n",
      "_________________________________________________________________\n",
      "dense (Dense)                (None, 5)                 6405      \n",
      "=================================================================\n",
      "Total params: 4,055,976\n",
      "Trainable params: 1,127,989\n",
      "Non-trainable params: 2,927,987\n",
      "_________________________________________________________________\n"
     ]
    }
   ],
   "source": [
    "model.summary()"
   ]
  },
  {
   "cell_type": "code",
   "execution_count": 21,
   "metadata": {},
   "outputs": [
    {
     "name": "stdout",
     "output_type": "stream",
     "text": [
      "Epoch 1/20\n",
      "827/827 [==============================] - 14s 17ms/step - loss: 0.3366 - accuracy: 0.9047 - val_loss: 0.4204 - val_accuracy: 0.8626\n",
      "Epoch 2/20\n",
      "827/827 [==============================] - 14s 17ms/step - loss: 0.3324 - accuracy: 0.9023 - val_loss: 0.4160 - val_accuracy: 0.8709\n",
      "Epoch 3/20\n",
      "827/827 [==============================] - 14s 17ms/step - loss: 0.3269 - accuracy: 0.9047 - val_loss: 0.4117 - val_accuracy: 0.8654\n",
      "Epoch 4/20\n",
      "827/827 [==============================] - 14s 17ms/step - loss: 0.3227 - accuracy: 0.9032 - val_loss: 0.4078 - val_accuracy: 0.8626\n",
      "Epoch 5/20\n",
      "827/827 [==============================] - 14s 17ms/step - loss: 0.3192 - accuracy: 0.9041 - val_loss: 0.4040 - val_accuracy: 0.8626\n",
      "Epoch 6/20\n",
      "827/827 [==============================] - 13s 16ms/step - loss: 0.3162 - accuracy: 0.9056 - val_loss: 0.4003 - val_accuracy: 0.8626\n",
      "Epoch 7/20\n",
      "827/827 [==============================] - 13s 16ms/step - loss: 0.3079 - accuracy: 0.9102 - val_loss: 0.3969 - val_accuracy: 0.8654\n",
      "Epoch 8/20\n",
      "827/827 [==============================] - 13s 16ms/step - loss: 0.3033 - accuracy: 0.9129 - val_loss: 0.3936 - val_accuracy: 0.8654\n",
      "Epoch 9/20\n",
      "827/827 [==============================] - 13s 16ms/step - loss: 0.2996 - accuracy: 0.9126 - val_loss: 0.3901 - val_accuracy: 0.8681\n",
      "Epoch 10/20\n",
      "827/827 [==============================] - 13s 16ms/step - loss: 0.2976 - accuracy: 0.9099 - val_loss: 0.3873 - val_accuracy: 0.8681\n",
      "Epoch 11/20\n",
      "827/827 [==============================] - 13s 16ms/step - loss: 0.2961 - accuracy: 0.9120 - val_loss: 0.3842 - val_accuracy: 0.8681\n",
      "Epoch 12/20\n",
      "827/827 [==============================] - 13s 16ms/step - loss: 0.2913 - accuracy: 0.9183 - val_loss: 0.3813 - val_accuracy: 0.8681\n",
      "Epoch 13/20\n",
      "827/827 [==============================] - 13s 16ms/step - loss: 0.2831 - accuracy: 0.9165 - val_loss: 0.3786 - val_accuracy: 0.8709\n",
      "Epoch 14/20\n",
      "827/827 [==============================] - 13s 16ms/step - loss: 0.2847 - accuracy: 0.9180 - val_loss: 0.3759 - val_accuracy: 0.8736\n",
      "Epoch 15/20\n",
      "827/827 [==============================] - 13s 16ms/step - loss: 0.2774 - accuracy: 0.9183 - val_loss: 0.3734 - val_accuracy: 0.8709\n",
      "Epoch 16/20\n",
      "827/827 [==============================] - 13s 16ms/step - loss: 0.2750 - accuracy: 0.9183 - val_loss: 0.3709 - val_accuracy: 0.8709\n",
      "Epoch 17/20\n",
      "827/827 [==============================] - 13s 16ms/step - loss: 0.2735 - accuracy: 0.9214 - val_loss: 0.3689 - val_accuracy: 0.8736\n",
      "Epoch 18/20\n",
      "827/827 [==============================] - 13s 16ms/step - loss: 0.2695 - accuracy: 0.9229 - val_loss: 0.3665 - val_accuracy: 0.8736\n",
      "Epoch 19/20\n",
      "827/827 [==============================] - 13s 16ms/step - loss: 0.2666 - accuracy: 0.9253 - val_loss: 0.3643 - val_accuracy: 0.8736\n",
      "Epoch 20/20\n",
      "827/827 [==============================] - 13s 16ms/step - loss: 0.2683 - accuracy: 0.9201 - val_loss: 0.3623 - val_accuracy: 0.8736\n"
     ]
    }
   ],
   "source": [
    "his1=model.fit(training_generator,epochs=20,validation_data=val_generator)"
   ]
  },
  {
   "cell_type": "code",
   "execution_count": 24,
   "metadata": {},
   "outputs": [],
   "source": [
    "import numpy as np\n",
    "import matplotlib.pyplot as plt"
   ]
  },
  {
   "cell_type": "code",
   "execution_count": 25,
   "metadata": {},
   "outputs": [
    {
     "data": {
      "image/png": "[encoded data removed]",
      "text/plain": [
       "<Figure size 432x288 with 1 Axes>"
      ]
     },
     "metadata": {
      "needs_background": "light"
     },
     "output_type": "display_data"
    }
   ],
   "source": [
    "acc_his=his.history['accuracy']\n",
    "for acc in his1.history['accuracy']:\n",
    "    acc_his.append(acc)\n",
    "    \n",
    "val_acc_his=his.history['val_accuracy']\n",
    "for acc in his1.history['val_accuracy']:\n",
    "    val_acc_his.append(acc)\n",
    "    \n",
    "plt.plot(acc_his)\n",
    "plt.plot(val_acc_his)\n",
    "plt.title('Model accuracy')\n",
    "plt.ylabel('Accuracy')\n",
    "plt.xlabel('Epoch')\n",
    "plt.legend(['Train', 'Validation'], loc='upper left')\n",
    "plt.show()"
   ]
  },
  {
   "cell_type": "code",
   "execution_count": 60,
   "metadata": {},
   "outputs": [
    {
     "data": {
      "image/png": "[encoded data removed]",
      "text/plain": [
       "<Figure size 432x288 with 1 Axes>"
      ]
     },
     "metadata": {
      "needs_background": "light"
     },
     "output_type": "display_data"
    }
   ],
   "source": [
    "los_his=his.history['loss']\n",
    "for los in his1.history['loss']:\n",
    "    los_his.append(los)\n",
    "    \n",
    "val_los_his=his.history['val_loss']\n",
    "for los in his1.history['val_loss']:\n",
    "    val_los_his.append(los)\n",
    "    \n",
    "plt.plot(los_his)\n",
    "plt.plot(val_los_his)\n",
    "plt.title('Model loss')\n",
    "plt.ylabel('Loss')\n",
    "plt.xlabel('Epoch')\n",
    "plt.legend(['Train', 'Validation'], loc='upper left')\n",
    "plt.show()"
   ]
  },
  {
   "cell_type": "markdown",
   "metadata": {},
   "source": [
    "<a rel=\"license\" href=\"http://creativecommons.org/licenses/by/4.0/\"><img alt=\"知识共享许可协议\" style=\"border-width:0\" src=\"https://i.creativecommons.org/l/by/4.0/88x31.png\" /></a><br />本作品采用<a rel=\"license\" href=\"http://creativecommons.org/licenses/by/4.0/\">知识共享署名 4.0 国际许可协议</a>进行许可。"
   ]
  }
 ],
 "metadata": {
  "kernelspec": {
   "display_name": "Python 3",
   "language": "python",
   "name": "python3"
  },
  "language_info": {
   "codemirror_mode": {
    "name": "ipython",
    "version": 3
   },
   "file_extension": ".py",
   "mimetype": "text/x-python",
   "name": "python",
   "nbconvert_exporter": "python",
   "pygments_lexer": "ipython3",
   "version": "3.6.9"
  }
 },
 "nbformat": 4,
 "nbformat_minor": 2
}
